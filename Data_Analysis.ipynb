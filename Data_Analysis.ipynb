{
  "nbformat": 4,
  "nbformat_minor": 0,
  "metadata": {
    "colab": {
      "provenance": [],
      "authorship_tag": "ABX9TyM2oI+YdUT/NH/wpJrcIMMJ",
      "include_colab_link": true
    },
    "kernelspec": {
      "name": "python3",
      "display_name": "Python 3"
    },
    "language_info": {
      "name": "python"
    }
  },
  "cells": [
    {
      "cell_type": "markdown",
      "metadata": {
        "id": "view-in-github",
        "colab_type": "text"
      },
      "source": [
        "<a href=\"https://colab.research.google.com/github/shubham4375/Test/blob/main/Data_Analysis.ipynb\" target=\"_parent\"><img src=\"https://colab.research.google.com/assets/colab-badge.svg\" alt=\"Open In Colab\"/></a>"
      ]
    },
    {
      "cell_type": "code",
      "execution_count": 2,
      "metadata": {
        "id": "ztvEdWM1DaDM"
      },
      "outputs": [],
      "source": [
        "#numpy\n",
        "import numpy as np"
      ]
    },
    {
      "cell_type": "markdown",
      "source": [
        "Creating Arrays"
      ],
      "metadata": {
        "id": "Cb_-sHDRb9DQ"
      }
    },
    {
      "cell_type": "code",
      "source": [
        "np.array([1,2,3]) #| One Dimentional Array"
      ],
      "metadata": {
        "colab": {
          "base_uri": "https://localhost:8080/"
        },
        "id": "_AON32EvZOBl",
        "outputId": "357c64ea-d8f9-43fc-f9b1-5ba039256c16"
      },
      "execution_count": 3,
      "outputs": [
        {
          "output_type": "execute_result",
          "data": {
            "text/plain": [
              "array([1, 2, 3])"
            ]
          },
          "metadata": {},
          "execution_count": 3
        }
      ]
    },
    {
      "cell_type": "code",
      "source": [
        "np.array([(1,2,3),(4,5,6)]) #| Two Dimentional Array 2*3"
      ],
      "metadata": {
        "colab": {
          "base_uri": "https://localhost:8080/"
        },
        "id": "v50bauDDZiOt",
        "outputId": "aac5bf8b-877b-48c3-ab87-85a04a5aed8b"
      },
      "execution_count": 4,
      "outputs": [
        {
          "output_type": "execute_result",
          "data": {
            "text/plain": [
              "array([[1, 2, 3],\n",
              "       [4, 5, 6]])"
            ]
          },
          "metadata": {},
          "execution_count": 4
        }
      ]
    },
    {
      "cell_type": "code",
      "source": [
        "np.zeros(3) #| 1D array of length 3 all values 0.0"
      ],
      "metadata": {
        "colab": {
          "base_uri": "https://localhost:8080/"
        },
        "id": "9cH6mB7KZ6b6",
        "outputId": "8833541e-2e2a-4a69-badb-340542991e5a"
      },
      "execution_count": 5,
      "outputs": [
        {
          "output_type": "execute_result",
          "data": {
            "text/plain": [
              "array([0., 0., 0.])"
            ]
          },
          "metadata": {},
          "execution_count": 5
        }
      ]
    },
    {
      "cell_type": "code",
      "source": [
        "np.ones((3,4)) #| 3*4 array with all values 1.0"
      ],
      "metadata": {
        "colab": {
          "base_uri": "https://localhost:8080/"
        },
        "id": "NW3KAY06aT3Y",
        "outputId": "3353ed53-d9f0-49ae-bad2-9e28bc84b5b4"
      },
      "execution_count": 6,
      "outputs": [
        {
          "output_type": "execute_result",
          "data": {
            "text/plain": [
              "array([[1., 1., 1., 1.],\n",
              "       [1., 1., 1., 1.],\n",
              "       [1., 1., 1., 1.]])"
            ]
          },
          "metadata": {},
          "execution_count": 6
        }
      ]
    },
    {
      "cell_type": "code",
      "source": [
        "np.full((2,3),8)"
      ],
      "metadata": {
        "colab": {
          "base_uri": "https://localhost:8080/"
        },
        "id": "XZjL3no2anFs",
        "outputId": "b189108c-a57a-421b-b7e9-5a9aceb64b7e"
      },
      "execution_count": 7,
      "outputs": [
        {
          "output_type": "execute_result",
          "data": {
            "text/plain": [
              "array([[8, 8, 8],\n",
              "       [8, 8, 8]])"
            ]
          },
          "metadata": {},
          "execution_count": 7
        }
      ]
    },
    {
      "cell_type": "code",
      "source": [
        "np.eye(5) #| Identity Matrix"
      ],
      "metadata": {
        "colab": {
          "base_uri": "https://localhost:8080/"
        },
        "id": "UAYrnZ0Qav7g",
        "outputId": "5a6add24-43aa-4e3a-9e50-62dafcd923c0"
      },
      "execution_count": 8,
      "outputs": [
        {
          "output_type": "execute_result",
          "data": {
            "text/plain": [
              "array([[1., 0., 0., 0., 0.],\n",
              "       [0., 1., 0., 0., 0.],\n",
              "       [0., 0., 1., 0., 0.],\n",
              "       [0., 0., 0., 1., 0.],\n",
              "       [0., 0., 0., 0., 1.]])"
            ]
          },
          "metadata": {},
          "execution_count": 8
        }
      ]
    },
    {
      "cell_type": "code",
      "source": [
        "np.linspace(0,100,6)"
      ],
      "metadata": {
        "colab": {
          "base_uri": "https://localhost:8080/"
        },
        "id": "UQzVGTH8a6R6",
        "outputId": "d4fe304f-2080-40e2-b15f-15b87b0fb865"
      },
      "execution_count": 9,
      "outputs": [
        {
          "output_type": "execute_result",
          "data": {
            "text/plain": [
              "array([  0.,  20.,  40.,  60.,  80., 100.])"
            ]
          },
          "metadata": {},
          "execution_count": 9
        }
      ]
    },
    {
      "cell_type": "code",
      "source": [
        "np.arange(0,10,3)"
      ],
      "metadata": {
        "colab": {
          "base_uri": "https://localhost:8080/"
        },
        "id": "_hO-DmmEbG4Q",
        "outputId": "9c0bf972-74e6-4d73-f665-8323a9056c28"
      },
      "execution_count": 10,
      "outputs": [
        {
          "output_type": "execute_result",
          "data": {
            "text/plain": [
              "array([0, 3, 6, 9])"
            ]
          },
          "metadata": {},
          "execution_count": 10
        }
      ]
    },
    {
      "cell_type": "code",
      "source": [
        "np.random.rand(4,5)"
      ],
      "metadata": {
        "colab": {
          "base_uri": "https://localhost:8080/"
        },
        "id": "qWKVsMuJbXLN",
        "outputId": "fd90af39-ab49-459f-8a84-bf994e7c5e5d"
      },
      "execution_count": 11,
      "outputs": [
        {
          "output_type": "execute_result",
          "data": {
            "text/plain": [
              "array([[0.47136129, 0.95353918, 0.77177849, 0.65328615, 0.15166066],\n",
              "       [0.72426054, 0.334161  , 0.98965909, 0.62991555, 0.94754789],\n",
              "       [0.57301202, 0.36249546, 0.54952683, 0.38634322, 0.48880968],\n",
              "       [0.32581971, 0.18338846, 0.57458051, 0.94240911, 0.37578103]])"
            ]
          },
          "metadata": {},
          "execution_count": 11
        }
      ]
    },
    {
      "cell_type": "code",
      "source": [
        "np.random.rand(6,7)*100"
      ],
      "metadata": {
        "colab": {
          "base_uri": "https://localhost:8080/"
        },
        "id": "ZCln1goLbgX0",
        "outputId": "a0ed32ec-93ea-4cc8-d9dc-8628dce79f0f"
      },
      "execution_count": 12,
      "outputs": [
        {
          "output_type": "execute_result",
          "data": {
            "text/plain": [
              "array([[83.11698648, 34.88978924, 86.5093727 ,  8.91097273, 89.52465182,\n",
              "        10.30815065,  2.94990284],\n",
              "       [45.5100155 ,  4.27312961, 84.67162305, 49.26587963, 45.9079281 ,\n",
              "        36.11292485, 62.91191359],\n",
              "       [87.72438153, 34.17219005, 76.57813424, 77.38970959, 44.04030525,\n",
              "        10.47645062, 49.41410947],\n",
              "       [89.86264497, 40.83709966, 95.21662399, 21.76770781, 37.74494741,\n",
              "        96.68465707, 32.79679789],\n",
              "       [14.40617601, 99.77801801, 99.60387164, 98.30358046, 95.82768586,\n",
              "        80.39905475, 95.16730384],\n",
              "       [26.36409415, 87.47363428, 30.41815295,  0.81575345, 99.25193352,\n",
              "         5.34648284, 14.32800874]])"
            ]
          },
          "metadata": {},
          "execution_count": 12
        }
      ]
    },
    {
      "cell_type": "code",
      "source": [
        "np.random.randint(5,size=(2,3)) #0-4 random int"
      ],
      "metadata": {
        "colab": {
          "base_uri": "https://localhost:8080/"
        },
        "id": "9wam6IP_bqEA",
        "outputId": "59d135de-678f-45b2-d0da-afa31766b02a"
      },
      "execution_count": 13,
      "outputs": [
        {
          "output_type": "execute_result",
          "data": {
            "text/plain": [
              "array([[0, 1, 2],\n",
              "       [3, 1, 2]])"
            ]
          },
          "metadata": {},
          "execution_count": 13
        }
      ]
    },
    {
      "cell_type": "markdown",
      "source": [
        "Inspecting Properties"
      ],
      "metadata": {
        "id": "bAFAEXSqcA7H"
      }
    },
    {
      "cell_type": "code",
      "source": [
        "# arr.size | Returns number of elements with array\n",
        "# arr.shape | Returns dimention of arr (rows,columns)\n",
        "# arr.dtype | Returns type of elements in arr\n",
        "# arr.astype(dtype) | convert arr elements to type dtype\n",
        "# arr.tolist() | convert arr to a python list\n",
        "# np.info(np.eye) | view documentation for np.eye"
      ],
      "metadata": {
        "id": "iBncjmfeb0uI"
      },
      "execution_count": 14,
      "outputs": []
    },
    {
      "cell_type": "markdown",
      "source": [
        "Copying/sorting/reshaping"
      ],
      "metadata": {
        "id": "hKY1DnazfHva"
      }
    },
    {
      "cell_type": "code",
      "source": [
        "# np.copy(arr) | copies arr to new memory\n",
        "# arr.view(dtype) | creates view of arr elements with type dtype\n",
        "# arr.sort() | sorts arr\n",
        "# arr.sort(axis=0) | Sorts specific axis of arr\n",
        "# two_d_arr.flatten() | Flattens 2D array two_d_arr to 1D\n",
        "# arr.T | Transposes arr (rows become columns and vice versa)\n",
        "# arr.reshape(3,4) | Reshapes arr to 3 rows, 4 columns without changing data\n",
        "# np.resize(arr,(5,6)) | changes arr shape to 5*6 and fills new values with 0"
      ],
      "metadata": {
        "id": "SUYjzVwBdaq4"
      },
      "execution_count": 15,
      "outputs": []
    },
    {
      "cell_type": "code",
      "source": [
        "arr = np.array([1, 2, 3])\n",
        "np.copy(arr)"
      ],
      "metadata": {
        "colab": {
          "base_uri": "https://localhost:8080/"
        },
        "id": "u6Ffm87bhv6-",
        "outputId": "d93c9886-b25c-42ec-c959-baa9e2a8318d"
      },
      "execution_count": 16,
      "outputs": [
        {
          "output_type": "execute_result",
          "data": {
            "text/plain": [
              "array([1, 2, 3])"
            ]
          },
          "metadata": {},
          "execution_count": 16
        }
      ]
    },
    {
      "cell_type": "code",
      "source": [
        "arr.sort()"
      ],
      "metadata": {
        "id": "wGktbjl_iDmH"
      },
      "execution_count": 17,
      "outputs": []
    },
    {
      "cell_type": "code",
      "source": [
        "arr.sort(axis=0)"
      ],
      "metadata": {
        "id": "LXnMhr8SiDc4"
      },
      "execution_count": 18,
      "outputs": []
    },
    {
      "cell_type": "code",
      "source": [
        "arr"
      ],
      "metadata": {
        "colab": {
          "base_uri": "https://localhost:8080/"
        },
        "id": "9wEHKWnQiDQY",
        "outputId": "12ae502e-09e1-489b-98d0-ec2df3b337e8"
      },
      "execution_count": 19,
      "outputs": [
        {
          "output_type": "execute_result",
          "data": {
            "text/plain": [
              "array([1, 2, 3])"
            ]
          },
          "metadata": {},
          "execution_count": 19
        }
      ]
    },
    {
      "cell_type": "code",
      "source": [
        "np.resize(arr,(5,6))"
      ],
      "metadata": {
        "colab": {
          "base_uri": "https://localhost:8080/"
        },
        "id": "FXV033FbiC-e",
        "outputId": "4c6a1262-00b9-4598-b9de-948edbf0c09d"
      },
      "execution_count": 20,
      "outputs": [
        {
          "output_type": "execute_result",
          "data": {
            "text/plain": [
              "array([[1, 2, 3, 1, 2, 3],\n",
              "       [1, 2, 3, 1, 2, 3],\n",
              "       [1, 2, 3, 1, 2, 3],\n",
              "       [1, 2, 3, 1, 2, 3],\n",
              "       [1, 2, 3, 1, 2, 3]])"
            ]
          },
          "metadata": {},
          "execution_count": 20
        }
      ]
    },
    {
      "cell_type": "markdown",
      "source": [
        "Adding/removing elements"
      ],
      "metadata": {
        "id": "yfgK91vNhBfw"
      }
    },
    {
      "cell_type": "code",
      "source": [
        "# np.append(arr,values) | apeends values to end of arr\n",
        "# np.insert(arr,2,values) | Inserts values into arr before index 2\n",
        "# np.delete(arr,3,axis=0) | Delete row on index 3 of arr\n",
        "# np.delete(arr,4,axis=1) | Deletes column on index 4 of arr"
      ],
      "metadata": {
        "id": "1cufqviQhAFc"
      },
      "execution_count": 21,
      "outputs": []
    },
    {
      "cell_type": "code",
      "source": [
        "np.append(arr,(4,5,6))"
      ],
      "metadata": {
        "colab": {
          "base_uri": "https://localhost:8080/"
        },
        "id": "cNCkVTHcja5i",
        "outputId": "e893ae50-af5d-4286-d527-3e8f56514c0e"
      },
      "execution_count": 22,
      "outputs": [
        {
          "output_type": "execute_result",
          "data": {
            "text/plain": [
              "array([1, 2, 3, 4, 5, 6])"
            ]
          },
          "metadata": {},
          "execution_count": 22
        }
      ]
    },
    {
      "cell_type": "code",
      "source": [
        "np.insert(arr,2,7)"
      ],
      "metadata": {
        "colab": {
          "base_uri": "https://localhost:8080/"
        },
        "id": "vmLwp7n4jdfE",
        "outputId": "0200f6a6-5fba-4ff3-db78-e2de572311eb"
      },
      "execution_count": 23,
      "outputs": [
        {
          "output_type": "execute_result",
          "data": {
            "text/plain": [
              "array([1, 2, 7, 3])"
            ]
          },
          "metadata": {},
          "execution_count": 23
        }
      ]
    },
    {
      "cell_type": "code",
      "source": [
        "np.delete(arr,2,axis=0)"
      ],
      "metadata": {
        "colab": {
          "base_uri": "https://localhost:8080/"
        },
        "id": "6AEMu5hCjsnI",
        "outputId": "27a40a44-5fc3-4723-fe4c-c0abec063d81"
      },
      "execution_count": 24,
      "outputs": [
        {
          "output_type": "execute_result",
          "data": {
            "text/plain": [
              "array([1, 2])"
            ]
          },
          "metadata": {},
          "execution_count": 24
        }
      ]
    },
    {
      "cell_type": "markdown",
      "source": [
        "Combining/splitting"
      ],
      "metadata": {
        "id": "q_eSOtsckAAU"
      }
    },
    {
      "cell_type": "code",
      "source": [
        "# np.concatenate((arr1,arr2),axis=0) | Adds arr2 aas rows to the end of arr1\n",
        "# np.concatenate((arr1,arr2),axis=1) | Adds arr2 as columns to end of arr1\n",
        "# np.split(arr,3) | Splits arr into 3 sub-arrays\n",
        "# np.hsplit(arr,5) | Splits arr horizontally on the 5th index"
      ],
      "metadata": {
        "id": "kxSkEVVQjvnG"
      },
      "execution_count": 25,
      "outputs": []
    },
    {
      "cell_type": "code",
      "source": [
        "a=np.array([1,2,3])\n",
        "b=np.array([2,3,1])\n",
        "c=np.array([[1,2,3],[4,5,6],[7,8,9]])\n",
        "c"
      ],
      "metadata": {
        "colab": {
          "base_uri": "https://localhost:8080/"
        },
        "id": "lpOOAGYQj5U4",
        "outputId": "0a84cb09-1f92-48a2-c8a6-864ea7ef0075"
      },
      "execution_count": 26,
      "outputs": [
        {
          "output_type": "execute_result",
          "data": {
            "text/plain": [
              "array([[1, 2, 3],\n",
              "       [4, 5, 6],\n",
              "       [7, 8, 9]])"
            ]
          },
          "metadata": {},
          "execution_count": 26
        }
      ]
    },
    {
      "cell_type": "code",
      "source": [
        "np.split(a,3)"
      ],
      "metadata": {
        "colab": {
          "base_uri": "https://localhost:8080/"
        },
        "id": "Ai4qX1mYpQPy",
        "outputId": "c7f8b8ba-2554-4c06-a253-c565d675ef9f"
      },
      "execution_count": 27,
      "outputs": [
        {
          "output_type": "execute_result",
          "data": {
            "text/plain": [
              "[array([1]), array([2]), array([3])]"
            ]
          },
          "metadata": {},
          "execution_count": 27
        }
      ]
    },
    {
      "cell_type": "code",
      "source": [
        "np.split(c,3)"
      ],
      "metadata": {
        "colab": {
          "base_uri": "https://localhost:8080/"
        },
        "id": "9KtPyleBpY5D",
        "outputId": "2eeccdfc-35ab-46ad-e3ea-43200a519bff"
      },
      "execution_count": 28,
      "outputs": [
        {
          "output_type": "execute_result",
          "data": {
            "text/plain": [
              "[array([[1, 2, 3]]), array([[4, 5, 6]]), array([[7, 8, 9]])]"
            ]
          },
          "metadata": {},
          "execution_count": 28
        }
      ]
    },
    {
      "cell_type": "code",
      "source": [
        "np.hsplit(c,3)"
      ],
      "metadata": {
        "colab": {
          "base_uri": "https://localhost:8080/"
        },
        "id": "CmeWA8jPpblI",
        "outputId": "f0a4d743-ecf5-44e2-a86c-bb9a850d5e44"
      },
      "execution_count": 29,
      "outputs": [
        {
          "output_type": "execute_result",
          "data": {
            "text/plain": [
              "[array([[1],\n",
              "        [4],\n",
              "        [7]]),\n",
              " array([[2],\n",
              "        [5],\n",
              "        [8]]),\n",
              " array([[3],\n",
              "        [6],\n",
              "        [9]])]"
            ]
          },
          "metadata": {},
          "execution_count": 29
        }
      ]
    },
    {
      "cell_type": "code",
      "source": [
        "np.vsplit(c,3)"
      ],
      "metadata": {
        "colab": {
          "base_uri": "https://localhost:8080/"
        },
        "id": "YSGIaRcwpgTO",
        "outputId": "7e517116-9fe0-4958-f8e3-2f45e1f84d05"
      },
      "execution_count": 30,
      "outputs": [
        {
          "output_type": "execute_result",
          "data": {
            "text/plain": [
              "[array([[1, 2, 3]]), array([[4, 5, 6]]), array([[7, 8, 9]])]"
            ]
          },
          "metadata": {},
          "execution_count": 30
        }
      ]
    },
    {
      "cell_type": "code",
      "source": [
        "# Extract specific items from an array?\n",
        "list2 = [[1,2,3,4],[3,4,5,6],[5,6,7,8]]\n",
        "arr2 = np.array(list2)\n",
        "arr2"
      ],
      "metadata": {
        "colab": {
          "base_uri": "https://localhost:8080/"
        },
        "id": "c7Qis57MpjTA",
        "outputId": "927eeefd-a330-4daa-c107-007c08caa2c0"
      },
      "execution_count": 31,
      "outputs": [
        {
          "output_type": "execute_result",
          "data": {
            "text/plain": [
              "array([[1, 2, 3, 4],\n",
              "       [3, 4, 5, 6],\n",
              "       [5, 6, 7, 8]])"
            ]
          },
          "metadata": {},
          "execution_count": 31
        }
      ]
    },
    {
      "cell_type": "code",
      "source": [
        "arr2.shape"
      ],
      "metadata": {
        "colab": {
          "base_uri": "https://localhost:8080/"
        },
        "id": "R2KWTBg-p_-h",
        "outputId": "4ded9048-4d6a-40fb-a358-9aff82b1c33e"
      },
      "execution_count": 32,
      "outputs": [
        {
          "output_type": "execute_result",
          "data": {
            "text/plain": [
              "(3, 4)"
            ]
          },
          "metadata": {},
          "execution_count": 32
        }
      ]
    },
    {
      "cell_type": "code",
      "source": [
        "arr2.dtype"
      ],
      "metadata": {
        "colab": {
          "base_uri": "https://localhost:8080/"
        },
        "id": "eubv13UmqEbG",
        "outputId": "c72698f3-4033-450d-fc1a-d8a273a75707"
      },
      "execution_count": 33,
      "outputs": [
        {
          "output_type": "execute_result",
          "data": {
            "text/plain": [
              "dtype('int64')"
            ]
          },
          "metadata": {},
          "execution_count": 33
        }
      ]
    },
    {
      "cell_type": "code",
      "source": [
        "arr2.reshape((4,3))"
      ],
      "metadata": {
        "colab": {
          "base_uri": "https://localhost:8080/"
        },
        "id": "1UCMrq0kqNTg",
        "outputId": "a832862b-0c48-43a6-9e62-6f773d5fc30c"
      },
      "execution_count": 34,
      "outputs": [
        {
          "output_type": "execute_result",
          "data": {
            "text/plain": [
              "array([[1, 2, 3],\n",
              "       [4, 3, 4],\n",
              "       [5, 6, 5],\n",
              "       [6, 7, 8]])"
            ]
          },
          "metadata": {},
          "execution_count": 34
        }
      ]
    },
    {
      "cell_type": "code",
      "source": [
        "arr2"
      ],
      "metadata": {
        "colab": {
          "base_uri": "https://localhost:8080/"
        },
        "id": "_M0V8xxfqRC3",
        "outputId": "27a2ec68-af8b-4165-9f7b-73f330ecbc9b"
      },
      "execution_count": 35,
      "outputs": [
        {
          "output_type": "execute_result",
          "data": {
            "text/plain": [
              "array([[1, 2, 3, 4],\n",
              "       [3, 4, 5, 6],\n",
              "       [5, 6, 7, 8]])"
            ]
          },
          "metadata": {},
          "execution_count": 35
        }
      ]
    },
    {
      "cell_type": "code",
      "source": [
        "arr2[:3,:2]"
      ],
      "metadata": {
        "colab": {
          "base_uri": "https://localhost:8080/"
        },
        "id": "59YppO7FqaQc",
        "outputId": "d82bc712-4992-4835-cfc0-dfd1d8d9207c"
      },
      "execution_count": 36,
      "outputs": [
        {
          "output_type": "execute_result",
          "data": {
            "text/plain": [
              "array([[1, 2],\n",
              "       [3, 4],\n",
              "       [5, 6]])"
            ]
          },
          "metadata": {},
          "execution_count": 36
        }
      ]
    },
    {
      "cell_type": "code",
      "source": [
        "b=arr2>4\n",
        "b"
      ],
      "metadata": {
        "colab": {
          "base_uri": "https://localhost:8080/"
        },
        "id": "oNsbsXOVqqxx",
        "outputId": "ffe50d74-20be-441a-f03b-5846157f29f8"
      },
      "execution_count": 37,
      "outputs": [
        {
          "output_type": "execute_result",
          "data": {
            "text/plain": [
              "array([[False, False, False, False],\n",
              "       [False, False,  True,  True],\n",
              "       [ True,  True,  True,  True]])"
            ]
          },
          "metadata": {},
          "execution_count": 37
        }
      ]
    },
    {
      "cell_type": "code",
      "source": [
        "arr2[b]"
      ],
      "metadata": {
        "colab": {
          "base_uri": "https://localhost:8080/"
        },
        "id": "WaOrUBv6qtft",
        "outputId": "a153b210-2b00-4054-cb57-4c5721dd7160"
      },
      "execution_count": 38,
      "outputs": [
        {
          "output_type": "execute_result",
          "data": {
            "text/plain": [
              "array([5, 6, 5, 6, 7, 8])"
            ]
          },
          "metadata": {},
          "execution_count": 38
        }
      ]
    },
    {
      "cell_type": "code",
      "source": [
        "# how to reverse the rows and the whole array?"
      ],
      "metadata": {
        "id": "UMLK70H-rMKW"
      },
      "execution_count": 39,
      "outputs": []
    },
    {
      "cell_type": "code",
      "source": [
        "arr2[::-1] # reverse the row posi"
      ],
      "metadata": {
        "colab": {
          "base_uri": "https://localhost:8080/"
        },
        "id": "-LzBsybnrXVv",
        "outputId": "808c3631-8f77-410f-cbf7-b44b3e793636"
      },
      "execution_count": 40,
      "outputs": [
        {
          "output_type": "execute_result",
          "data": {
            "text/plain": [
              "array([[5, 6, 7, 8],\n",
              "       [3, 4, 5, 6],\n",
              "       [1, 2, 3, 4]])"
            ]
          },
          "metadata": {},
          "execution_count": 40
        }
      ]
    },
    {
      "cell_type": "code",
      "source": [
        "arr2[::-1,::-1] # reverse the row and column posi"
      ],
      "metadata": {
        "colab": {
          "base_uri": "https://localhost:8080/"
        },
        "id": "61MlfqYmrY7j",
        "outputId": "c8cfbe39-425e-4e19-87e3-74cf301e5f6d"
      },
      "execution_count": 41,
      "outputs": [
        {
          "output_type": "execute_result",
          "data": {
            "text/plain": [
              "array([[8, 7, 6, 5],\n",
              "       [6, 5, 4, 3],\n",
              "       [4, 3, 2, 1]])"
            ]
          },
          "metadata": {},
          "execution_count": 41
        }
      ]
    },
    {
      "cell_type": "code",
      "source": [
        "arr2 = arr2.astype('float')\n",
        "arr2"
      ],
      "metadata": {
        "colab": {
          "base_uri": "https://localhost:8080/"
        },
        "id": "kLnpgzJxrbIQ",
        "outputId": "31bd7313-88c0-4b93-a8be-b78af8c363e1"
      },
      "execution_count": 42,
      "outputs": [
        {
          "output_type": "execute_result",
          "data": {
            "text/plain": [
              "array([[1., 2., 3., 4.],\n",
              "       [3., 4., 5., 6.],\n",
              "       [5., 6., 7., 8.]])"
            ]
          },
          "metadata": {},
          "execution_count": 42
        }
      ]
    },
    {
      "cell_type": "code",
      "source": [
        "# how to represent misiing values and infinite ?"
      ],
      "metadata": {
        "id": "foS8CqGCr1Ud"
      },
      "execution_count": 43,
      "outputs": []
    },
    {
      "cell_type": "code",
      "source": [
        "# insert a nan and an inf\n",
        "arr2[1,1] = np.nan # not a number\n",
        "arr2[1,2] = np.inf # infinite"
      ],
      "metadata": {
        "id": "qY4KEvqnsDCD"
      },
      "execution_count": 44,
      "outputs": []
    },
    {
      "cell_type": "code",
      "source": [
        "arr2"
      ],
      "metadata": {
        "colab": {
          "base_uri": "https://localhost:8080/"
        },
        "id": "V10CUmQ3sd8I",
        "outputId": "f1af9bef-1ca1-4f8d-93d4-b8772539a3ff"
      },
      "execution_count": 45,
      "outputs": [
        {
          "output_type": "execute_result",
          "data": {
            "text/plain": [
              "array([[ 1.,  2.,  3.,  4.],\n",
              "       [ 3., nan, inf,  6.],\n",
              "       [ 5.,  6.,  7.,  8.]])"
            ]
          },
          "metadata": {},
          "execution_count": 45
        }
      ]
    },
    {
      "cell_type": "code",
      "source": [
        "# replace nan and inf with -1. don't use arr2 == np.nan\n",
        "missing_bool = np.isnan(arr2) | np.isinf(arr2)\n",
        "arr2[missing_bool] = -1\n",
        "arr2"
      ],
      "metadata": {
        "colab": {
          "base_uri": "https://localhost:8080/"
        },
        "id": "o4jeEIU1sfT1",
        "outputId": "66858a68-e5e6-420f-ab0d-11d39438d3e8"
      },
      "execution_count": 46,
      "outputs": [
        {
          "output_type": "execute_result",
          "data": {
            "text/plain": [
              "array([[ 1.,  2.,  3.,  4.],\n",
              "       [ 3., -1., -1.,  6.],\n",
              "       [ 5.,  6.,  7.,  8.]])"
            ]
          },
          "metadata": {},
          "execution_count": 46
        }
      ]
    },
    {
      "cell_type": "code",
      "source": [
        "# how to compute mean, min, mac on the ndarray?\n",
        "# mean, max and min\n",
        "print(\"mean value is : \", arr2.mean())\n",
        "print(\"max value is : \",arr2.max())\n",
        "print(\"min va;ue is : \",arr2.min())\n",
        "# cumulative sum\n",
        "print(np.cumsum(arr2))"
      ],
      "metadata": {
        "colab": {
          "base_uri": "https://localhost:8080/"
        },
        "id": "dw1T6Vfcs29z",
        "outputId": "9d3d9755-b4a4-40a3-87d9-25662a6bb65b"
      },
      "execution_count": 47,
      "outputs": [
        {
          "output_type": "stream",
          "name": "stdout",
          "text": [
            "mean value is :  3.5833333333333335\n",
            "max value is :  8.0\n",
            "min va;ue is :  -1.0\n",
            "[ 1.  3.  6. 10. 13. 12. 11. 17. 22. 28. 35. 43.]\n"
          ]
        }
      ]
    },
    {
      "cell_type": "code",
      "source": [
        "# how to create a new array from an existing array?\n",
        "#  assign portion of arr2 to arr2a. Doesn't really create a new array.\n",
        "arr2a = arr2[:2, :2]\n",
        "print(arr2a)\n",
        "arr2a[:1, :1] = 100 # 100 will reflect in arr2\n",
        "arr2, arr2a"
      ],
      "metadata": {
        "colab": {
          "base_uri": "https://localhost:8080/"
        },
        "id": "-UOAah5AtYfB",
        "outputId": "4a226b1e-534e-4335-a0a2-e4d3769f33aa"
      },
      "execution_count": 48,
      "outputs": [
        {
          "output_type": "stream",
          "name": "stdout",
          "text": [
            "[[ 1.  2.]\n",
            " [ 3. -1.]]\n"
          ]
        },
        {
          "output_type": "execute_result",
          "data": {
            "text/plain": [
              "(array([[100.,   2.,   3.,   4.],\n",
              "        [  3.,  -1.,  -1.,   6.],\n",
              "        [  5.,   6.,   7.,   8.]]),\n",
              " array([[100.,   2.],\n",
              "        [  3.,  -1.]]))"
            ]
          },
          "metadata": {},
          "execution_count": 48
        }
      ]
    },
    {
      "cell_type": "markdown",
      "source": [
        "# Reshaping and flattening multidimensional arrays"
      ],
      "metadata": {
        "id": "Hs5UQiIW4yYy"
      }
    },
    {
      "cell_type": "code",
      "source": [
        "# reshape a 3*4 array to 4*3 array\n",
        "arr2.reshape(4, 3)"
      ],
      "metadata": {
        "id": "zw88ZJwdt8O1",
        "colab": {
          "base_uri": "https://localhost:8080/"
        },
        "outputId": "38590afb-e891-4b87-843e-ef368ea47f07"
      },
      "execution_count": 49,
      "outputs": [
        {
          "output_type": "execute_result",
          "data": {
            "text/plain": [
              "array([[100.,   2.,   3.],\n",
              "       [  4.,   3.,  -1.],\n",
              "       [ -1.,   6.,   5.],\n",
              "       [  6.,   7.,   8.]])"
            ]
          },
          "metadata": {},
          "execution_count": 49
        }
      ]
    },
    {
      "cell_type": "markdown",
      "source": [
        "# What is the difference between flatten( and ravel()?\n",
        "The difference between ravel and flatten is, the new array created using ravel is actually a reference to the parent array. so, any changes to the new array will affect the parent as well. but is memory efficent since it does not create a copy."
      ],
      "metadata": {
        "id": "W544Izhc5TTH"
      }
    },
    {
      "cell_type": "code",
      "source": [
        "#Flatten it to a 1D array\n",
        "arr2.flatten()"
      ],
      "metadata": {
        "colab": {
          "base_uri": "https://localhost:8080/"
        },
        "id": "Y871SAhE5R_G",
        "outputId": "54d6dc28-2193-4e7c-88c9-68bffc663049"
      },
      "execution_count": 50,
      "outputs": [
        {
          "output_type": "execute_result",
          "data": {
            "text/plain": [
              "array([100.,   2.,   3.,   4.,   3.,  -1.,  -1.,   6.,   5.,   6.,   7.,\n",
              "         8.])"
            ]
          },
          "metadata": {},
          "execution_count": 50
        }
      ]
    },
    {
      "cell_type": "code",
      "source": [
        "#changing the flattened array does not change parent\n",
        "b1 = arr2.flatten()\n",
        "\n",
        "b1[0] = 200 # changing b1 does not affect arr2\n",
        "print(b1)\n",
        "arr2"
      ],
      "metadata": {
        "colab": {
          "base_uri": "https://localhost:8080/"
        },
        "id": "gGEFb4Kd6QtG",
        "outputId": "17a32f3f-2c75-4be5-a94f-f459609b9509"
      },
      "execution_count": 52,
      "outputs": [
        {
          "output_type": "stream",
          "name": "stdout",
          "text": [
            "[200.   2.   3.   4.   3.  -1.  -1.   6.   5.   6.   7.   8.]\n"
          ]
        },
        {
          "output_type": "execute_result",
          "data": {
            "text/plain": [
              "array([[100.,   2.,   3.,   4.],\n",
              "       [  3.,  -1.,  -1.,   6.],\n",
              "       [  5.,   6.,   7.,   8.]])"
            ]
          },
          "metadata": {},
          "execution_count": 52
        }
      ]
    },
    {
      "cell_type": "code",
      "source": [
        "# Changing the raveled array changes the aprent aslo.\n",
        "print(arr2.ravel())\n",
        "b2 = arr2.ravel()\n",
        "b2[0] = 101 # Changing b2 changes arr2 also\n",
        "arr2"
      ],
      "metadata": {
        "colab": {
          "base_uri": "https://localhost:8080/"
        },
        "id": "1tHOddBd6e-H",
        "outputId": "4a7591cd-1235-4c60-d3e9-827fc400bc99"
      },
      "execution_count": 53,
      "outputs": [
        {
          "output_type": "stream",
          "name": "stdout",
          "text": [
            "[100.   2.   3.   4.   3.  -1.  -1.   6.   5.   6.   7.   8.]\n"
          ]
        },
        {
          "output_type": "execute_result",
          "data": {
            "text/plain": [
              "array([[101.,   2.,   3.,   4.],\n",
              "       [  3.,  -1.,  -1.,   6.],\n",
              "       [  5.,   6.,   7.,   8.]])"
            ]
          },
          "metadata": {},
          "execution_count": 53
        }
      ]
    },
    {
      "cell_type": "markdown",
      "source": [
        "# How to Create sequences, repetitions and random numbers using numpy?"
      ],
      "metadata": {
        "id": "f_p8m2G47Duc"
      }
    },
    {
      "cell_type": "code",
      "source": [
        "# lower limit is 0 by default\n",
        "print(np.arange(5))\n",
        "# 0to 9\n",
        "print(np.arange(0, 10))\n",
        "#0 to 9 with step of 2\n",
        "print(np.arange(0, 10, 2))\n",
        "# 10 to 1, decresing order\n",
        "print(np.arange(10, 0, -1))"
      ],
      "metadata": {
        "colab": {
          "base_uri": "https://localhost:8080/"
        },
        "id": "qeOE83fk65TP",
        "outputId": "db0b535e-cb84-479e-9595-06a21a2dbf8a"
      },
      "execution_count": 56,
      "outputs": [
        {
          "output_type": "stream",
          "name": "stdout",
          "text": [
            "[0 1 2 3 4]\n",
            "[0 1 2 3 4 5 6 7 8 9]\n",
            "[0 2 4 6 8]\n",
            "[10  9  8  7  6  5  4  3  2  1]\n"
          ]
        }
      ]
    },
    {
      "cell_type": "code",
      "source": [
        "# Start at 1 and end at 50\n",
        "np.linspace(start=1, stop=50, num=10, dtype=int)"
      ],
      "metadata": {
        "colab": {
          "base_uri": "https://localhost:8080/"
        },
        "id": "_hoM7KfI7rB_",
        "outputId": "9f9ec56f-50b5-4be4-c054-4af57e9cb717"
      },
      "execution_count": 57,
      "outputs": [
        {
          "output_type": "execute_result",
          "data": {
            "text/plain": [
              "array([ 1,  6, 11, 17, 22, 28, 33, 39, 44, 50])"
            ]
          },
          "metadata": {},
          "execution_count": 57
        }
      ]
    },
    {
      "cell_type": "code",
      "source": [
        "# Limit the number of digits after the decimal to 2\n",
        "np.set_printoptions(precision=2)\n",
        "\n",
        "# Start at 10^1 and end at 10^50\n",
        "np.logspace(start=1, stop=50, num=10, base=10)"
      ],
      "metadata": {
        "colab": {
          "base_uri": "https://localhost:8080/"
        },
        "id": "-TF2Enev8lrH",
        "outputId": "a52205c7-ce22-4232-f025-4897657acf31"
      },
      "execution_count": 58,
      "outputs": [
        {
          "output_type": "execute_result",
          "data": {
            "text/plain": [
              "array([1.00e+01, 2.78e+06, 7.74e+11, 2.15e+17, 5.99e+22, 1.67e+28,\n",
              "       4.64e+33, 1.29e+39, 3.59e+44, 1.00e+50])"
            ]
          },
          "metadata": {},
          "execution_count": 58
        }
      ]
    },
    {
      "cell_type": "code",
      "source": [
        "np.zeros([2,2])"
      ],
      "metadata": {
        "colab": {
          "base_uri": "https://localhost:8080/"
        },
        "id": "5RaxUpgK8q1G",
        "outputId": "6641ae6b-051d-40e4-c084-8b86e6f79cd0"
      },
      "execution_count": 59,
      "outputs": [
        {
          "output_type": "execute_result",
          "data": {
            "text/plain": [
              "array([[0., 0.],\n",
              "       [0., 0.]])"
            ]
          },
          "metadata": {},
          "execution_count": 59
        }
      ]
    },
    {
      "cell_type": "code",
      "source": [
        "np.ones([2,2])"
      ],
      "metadata": {
        "colab": {
          "base_uri": "https://localhost:8080/"
        },
        "id": "wVy-SVy083kU",
        "outputId": "27db5fe9-f556-48b6-9401-8837740a5185"
      },
      "execution_count": 60,
      "outputs": [
        {
          "output_type": "execute_result",
          "data": {
            "text/plain": [
              "array([[1., 1.],\n",
              "       [1., 1.]])"
            ]
          },
          "metadata": {},
          "execution_count": 60
        }
      ]
    },
    {
      "cell_type": "markdown",
      "source": [
        "# How to create repeating sequences?"
      ],
      "metadata": {
        "id": "LH2p4yGs9AdM"
      }
    },
    {
      "cell_type": "code",
      "source": [
        "a = [1,2,3]\n",
        "\n",
        "# Repeat whole of 'a' two times\n",
        "print('Tile: ', np.tile(a, 2))\n",
        "\n",
        "# Repeat each element of 'a' two times\n",
        "print('Repeat: ', np.repeat(a, 2))"
      ],
      "metadata": {
        "colab": {
          "base_uri": "https://localhost:8080/"
        },
        "id": "u9VQC02n857E",
        "outputId": "7147149d-76a6-48f3-b93f-6169d752de63"
      },
      "execution_count": 61,
      "outputs": [
        {
          "output_type": "stream",
          "name": "stdout",
          "text": [
            "Tile:  [1 2 3 1 2 3]\n",
            "Repeat:  [1 1 2 2 3 3]\n"
          ]
        }
      ]
    },
    {
      "cell_type": "markdown",
      "source": [
        "# How to generate random numbers?"
      ],
      "metadata": {
        "id": "KCMFWHVq9gTL"
      }
    },
    {
      "cell_type": "code",
      "source": [
        "# Random numbers between [0,1) of shape 2,2\n",
        "print(np.random.rand(2,2))\n",
        "\n",
        "# # Normal distribution with mean=0 and variance=1 of shape 2,2\n",
        "print(np.random.randn(2,2))\n",
        "\n",
        "# # Random integers between [0, 10) of shape 2,2\n",
        "print(np.random.randint(0, 10, size=[2,2]))\n",
        "\n",
        "# # One random number between [0,1)\n",
        "print(np.random.random())\n",
        "\n",
        "# # Random numbers between [0,1) of shape 2,2\n",
        "print(np.random.random(size=[2,2]))\n",
        "\n",
        "# # Pick 10 items from a given list, odd-even probability\n",
        "print(np.random.choice(['a', 'e', 'i', 'o', 'u'], size=10))\n",
        "\n",
        "# # Pick 10 items from a given list with a predefined probability 'p'\n",
        "print(np.random.choice(['a', 'e', 'i', 'o', 'u'], size=10, p=[0.3, .1, 0.1, 0.4, 0.1])) # picks more o's\n",
        "\n",
        "# # Create the random state\n",
        "rn = np.random.RandomState(100)\n",
        "\n",
        "# # Create random numbers between [0,1) of shape 2,2\n",
        "print(rn.rand(2,2))\n",
        "\n",
        "# # Set the random seed\n",
        "# np.random.seed(100)\n",
        "\n",
        "# # Create random numbers between [0,1) of shape 2,2\n",
        "print(np.random.rand(2,2))"
      ],
      "metadata": {
        "colab": {
          "base_uri": "https://localhost:8080/"
        },
        "id": "VeiCV4Cz9LBB",
        "outputId": "cc548a84-2ff3-432b-e47f-22dd45425398"
      },
      "execution_count": 62,
      "outputs": [
        {
          "output_type": "stream",
          "name": "stdout",
          "text": [
            "[[0.51 0.28]\n",
            " [0.6  0.87]]\n",
            "[[ 0.55  0.94]\n",
            " [ 0.68 -0.45]]\n",
            "[[1 6]\n",
            " [1 2]]\n",
            "0.614314648126819\n",
            "[[0.26 0.08]\n",
            " [0.84 0.51]]\n",
            "['i' 'o' 'e' 'o' 'i' 'i' 'a' 'i' 'u' 'u']\n",
            "['o' 'o' 'o' 'a' 'e' 'e' 'a' 'a' 'u' 'u']\n",
            "[[0.54 0.28]\n",
            " [0.42 0.84]]\n",
            "[[0.61 0.56]\n",
            " [0.84 0.41]]\n"
          ]
        }
      ]
    },
    {
      "cell_type": "code",
      "source": [
        "# Create an array of 5x5 shape of elements from 10 to 100\n",
        "mt=np.random.randint(50,100,size=[5,5])\n",
        "mt"
      ],
      "metadata": {
        "colab": {
          "base_uri": "https://localhost:8080/"
        },
        "id": "UqT_Tb9n9jto",
        "outputId": "e18d597d-f051-47f0-c97a-8df83bfbafaa"
      },
      "execution_count": 63,
      "outputs": [
        {
          "output_type": "execute_result",
          "data": {
            "text/plain": [
              "array([[98, 83, 72, 66, 80],\n",
              "       [88, 60, 82, 89, 59],\n",
              "       [63, 83, 51, 76, 95],\n",
              "       [50, 67, 78, 67, 84],\n",
              "       [96, 85, 68, 82, 56]])"
            ]
          },
          "metadata": {},
          "execution_count": 63
        }
      ]
    },
    {
      "cell_type": "markdown",
      "source": [
        "# How to get the unique items and the counts?"
      ],
      "metadata": {
        "id": "7AP1wGM9-qeP"
      }
    },
    {
      "cell_type": "code",
      "source": [
        "# Create random integers of size 10 between [0,10)\n",
        "np.random.seed(100)\n",
        "arr_rand = np.random.randint(0, 10, size=10)\n",
        "print(arr_rand)"
      ],
      "metadata": {
        "colab": {
          "base_uri": "https://localhost:8080/"
        },
        "id": "KAxB5AOM-jCD",
        "outputId": "53748a30-09f3-4fa8-a440-4feebddd6f83"
      },
      "execution_count": 64,
      "outputs": [
        {
          "output_type": "stream",
          "name": "stdout",
          "text": [
            "[8 8 3 7 7 0 4 2 5 2]\n"
          ]
        }
      ]
    },
    {
      "cell_type": "code",
      "source": [
        "# Get the unique items and their counts\n",
        "uniqs, counts = np.unique(arr_rand, return_counts=True)\n",
        "print(\"Unique items : \", uniqs)\n",
        "print(\"Counts : \", counts)"
      ],
      "metadata": {
        "colab": {
          "base_uri": "https://localhost:8080/"
        },
        "id": "EwytBFie-taE",
        "outputId": "8aefd4b1-6133-4c2c-c210-2abe2cb7aa0a"
      },
      "execution_count": 65,
      "outputs": [
        {
          "output_type": "stream",
          "name": "stdout",
          "text": [
            "Unique items :  [0 2 3 4 5 7 8]\n",
            "Counts :  [1 2 1 1 1 2 2]\n"
          ]
        }
      ]
    },
    {
      "cell_type": "markdown",
      "source": [
        "# How to handle datasets that has both numbers and text columns?"
      ],
      "metadata": {
        "id": "Afq78htp-8Jl"
      }
    },
    {
      "cell_type": "code",
      "source": [
        "# import numpy as np\n",
        "# data = np.genfromtxt('Auto.csv', delimiter=',', skip_header=1, filling_values=-999, dtype='float')\n",
        "# data[:3] # see first 3 rows1.8000"
      ],
      "metadata": {
        "id": "0K4_bauJ-2Dt"
      },
      "execution_count": 66,
      "outputs": []
    },
    {
      "cell_type": "code",
      "source": [
        "# Save the array as a csv file\n",
        "# np.savetxt(\"out.csv\", data, delimiter=\",\")"
      ],
      "metadata": {
        "id": "vSHRC0_-_HQx"
      },
      "execution_count": 68,
      "outputs": []
    },
    {
      "cell_type": "markdown",
      "source": [
        "# How to concatenate two numpy arrays columnwise and rowwise"
      ],
      "metadata": {
        "id": "6Dv-DZ6q_meq"
      }
    },
    {
      "cell_type": "code",
      "source": [
        "a = np.zeros([4,4])\n",
        "b = np.ones([4,4])\n",
        "print(a)\n",
        "print(b)"
      ],
      "metadata": {
        "colab": {
          "base_uri": "https://localhost:8080/"
        },
        "id": "1H3t9tF3_eiN",
        "outputId": "631ef38e-d9ec-4c95-e089-f36a569ce3e1"
      },
      "execution_count": 69,
      "outputs": [
        {
          "output_type": "stream",
          "name": "stdout",
          "text": [
            "[[0. 0. 0. 0.]\n",
            " [0. 0. 0. 0.]\n",
            " [0. 0. 0. 0.]\n",
            " [0. 0. 0. 0.]]\n",
            "[[1. 1. 1. 1.]\n",
            " [1. 1. 1. 1.]\n",
            " [1. 1. 1. 1.]\n",
            " [1. 1. 1. 1.]]\n"
          ]
        }
      ]
    },
    {
      "cell_type": "code",
      "source": [
        "# vertical stack equivalents (row wise)\n",
        "np.concatenate([a, b], axis=0)\n",
        "np.vstack([a,b])\n",
        "np.r_[a,b]"
      ],
      "metadata": {
        "colab": {
          "base_uri": "https://localhost:8080/"
        },
        "id": "hOHUagprABZK",
        "outputId": "357c9074-a08b-40b3-dec8-461c55f142b9"
      },
      "execution_count": 71,
      "outputs": [
        {
          "output_type": "execute_result",
          "data": {
            "text/plain": [
              "array([[0., 0., 0., 0.],\n",
              "       [0., 0., 0., 0.],\n",
              "       [0., 0., 0., 0.],\n",
              "       [0., 0., 0., 0.],\n",
              "       [1., 1., 1., 1.],\n",
              "       [1., 1., 1., 1.],\n",
              "       [1., 1., 1., 1.],\n",
              "       [1., 1., 1., 1.]])"
            ]
          },
          "metadata": {},
          "execution_count": 71
        }
      ]
    },
    {
      "cell_type": "code",
      "source": [
        "# Horizontal stack equvalents (column wise)\n",
        "np.concatenate([a,b], axis=1)\n",
        "np.hstack([a,b])\n",
        "np.c_[a,b]"
      ],
      "metadata": {
        "colab": {
          "base_uri": "https://localhost:8080/"
        },
        "id": "6XBw6UY3AZnA",
        "outputId": "4aa6ac3f-c189-490f-da0c-0aef757b9210"
      },
      "execution_count": 73,
      "outputs": [
        {
          "output_type": "execute_result",
          "data": {
            "text/plain": [
              "array([[0., 0., 0., 0., 1., 1., 1., 1.],\n",
              "       [0., 0., 0., 0., 1., 1., 1., 1.],\n",
              "       [0., 0., 0., 0., 1., 1., 1., 1.],\n",
              "       [0., 0., 0., 0., 1., 1., 1., 1.]])"
            ]
          },
          "metadata": {},
          "execution_count": 73
        }
      ]
    },
    {
      "cell_type": "code",
      "source": [
        "np.r_[[1,2,3],0,0,[4,5,6]]"
      ],
      "metadata": {
        "colab": {
          "base_uri": "https://localhost:8080/"
        },
        "id": "PqgCvA8tAypq",
        "outputId": "e271ba39-0b75-4125-99f2-8f153a9c3213"
      },
      "execution_count": 74,
      "outputs": [
        {
          "output_type": "execute_result",
          "data": {
            "text/plain": [
              "array([1, 2, 3, 0, 0, 4, 5, 6])"
            ]
          },
          "metadata": {},
          "execution_count": 74
        }
      ]
    },
    {
      "cell_type": "markdown",
      "source": [
        "# How to sort a numpy array based on one or more columns?"
      ],
      "metadata": {
        "id": "1Q4rlN2FBJ5h"
      }
    },
    {
      "cell_type": "code",
      "source": [
        "arr = np.random.randint(1,6, size=[8,4])\n",
        "arr"
      ],
      "metadata": {
        "colab": {
          "base_uri": "https://localhost:8080/"
        },
        "id": "5i7oewAQBBBh",
        "outputId": "a124db73-898a-4d2e-935e-c7c8de493150"
      },
      "execution_count": 77,
      "outputs": [
        {
          "output_type": "execute_result",
          "data": {
            "text/plain": [
              "array([[4, 1, 2, 1],\n",
              "       [5, 3, 1, 1],\n",
              "       [3, 3, 2, 1],\n",
              "       [3, 2, 5, 3],\n",
              "       [1, 4, 4, 4],\n",
              "       [1, 2, 5, 3],\n",
              "       [4, 4, 5, 3],\n",
              "       [5, 4, 2, 1]])"
            ]
          },
          "metadata": {},
          "execution_count": 77
        }
      ]
    },
    {
      "cell_type": "code",
      "source": [
        "# Sort each columns of arr\n",
        "np.sort(arr, axis=0)"
      ],
      "metadata": {
        "colab": {
          "base_uri": "https://localhost:8080/"
        },
        "id": "CUXSk0sHBGBq",
        "outputId": "9a066f74-773f-4397-c53c-446216b8bba1"
      },
      "execution_count": 79,
      "outputs": [
        {
          "output_type": "execute_result",
          "data": {
            "text/plain": [
              "array([[1, 1, 1, 1],\n",
              "       [1, 2, 2, 1],\n",
              "       [3, 2, 2, 1],\n",
              "       [3, 3, 2, 1],\n",
              "       [4, 3, 4, 3],\n",
              "       [4, 4, 5, 3],\n",
              "       [5, 4, 5, 3],\n",
              "       [5, 4, 5, 4]])"
            ]
          },
          "metadata": {},
          "execution_count": 79
        }
      ]
    },
    {
      "cell_type": "markdown",
      "source": [
        "# How to sort a numpy array based on 1 column using argsort?"
      ],
      "metadata": {
        "id": "p17ZIYb_BxB1"
      }
    },
    {
      "cell_type": "code",
      "source": [
        "# get the index positions that would sort the array\n",
        "x = np.array([1,10,5,2,8,9])\n",
        "sort_index = np.argsort(x)\n",
        "print(sort_index)"
      ],
      "metadata": {
        "colab": {
          "base_uri": "https://localhost:8080/"
        },
        "id": "yPnF-iUpBlfa",
        "outputId": "703ef501-5f6a-499e-b5f4-2c386c747fb1"
      },
      "execution_count": 81,
      "outputs": [
        {
          "output_type": "stream",
          "name": "stdout",
          "text": [
            "[0 3 2 4 5 1]\n"
          ]
        }
      ]
    },
    {
      "cell_type": "code",
      "source": [
        "x[sort_index]"
      ],
      "metadata": {
        "colab": {
          "base_uri": "https://localhost:8080/"
        },
        "id": "Yq9WvZjTBrlj",
        "outputId": "d8fd7d00-9c14-4dd8-b69c-bdb06a88cd67"
      },
      "execution_count": 82,
      "outputs": [
        {
          "output_type": "execute_result",
          "data": {
            "text/plain": [
              "array([ 1,  2,  5,  8,  9, 10])"
            ]
          },
          "metadata": {},
          "execution_count": 82
        }
      ]
    },
    {
      "cell_type": "code",
      "source": [
        "# Argsort the first column\n",
        "sorted_index_1stcol = arr[:, 0].argsort()\n",
        "# Sort 'arr' by first column withut disturbing the integrity of rows\n",
        "arr[sorted_index_1stcol]"
      ],
      "metadata": {
        "colab": {
          "base_uri": "https://localhost:8080/"
        },
        "id": "q8ty7RuZCOrD",
        "outputId": "cb084a73-4afd-4746-84ad-24e514186793"
      },
      "execution_count": 83,
      "outputs": [
        {
          "output_type": "execute_result",
          "data": {
            "text/plain": [
              "array([[1, 4, 4, 4],\n",
              "       [1, 2, 5, 3],\n",
              "       [3, 3, 2, 1],\n",
              "       [3, 2, 5, 3],\n",
              "       [4, 1, 2, 1],\n",
              "       [4, 4, 5, 3],\n",
              "       [5, 3, 1, 1],\n",
              "       [5, 4, 2, 1]])"
            ]
          },
          "metadata": {},
          "execution_count": 83
        }
      ]
    },
    {
      "cell_type": "code",
      "source": [
        "# Descending sort\n",
        "arr[sorted_index_1stcol[::-1]]"
      ],
      "metadata": {
        "colab": {
          "base_uri": "https://localhost:8080/"
        },
        "id": "CdKLG4y1C303",
        "outputId": "ae6ce9b2-27f9-4fbd-e890-dd07069e93ca"
      },
      "execution_count": 84,
      "outputs": [
        {
          "output_type": "execute_result",
          "data": {
            "text/plain": [
              "array([[5, 4, 2, 1],\n",
              "       [5, 3, 1, 1],\n",
              "       [4, 4, 5, 3],\n",
              "       [4, 1, 2, 1],\n",
              "       [3, 2, 5, 3],\n",
              "       [3, 3, 2, 1],\n",
              "       [1, 2, 5, 3],\n",
              "       [1, 4, 4, 4]])"
            ]
          },
          "metadata": {},
          "execution_count": 84
        }
      ]
    },
    {
      "cell_type": "markdown",
      "source": [
        "# Handling csv file using numpy"
      ],
      "metadata": {
        "id": "_0sbF1NyDEff"
      }
    },
    {
      "cell_type": "code",
      "source": [
        "# data =np.genfromtxt('Auto.csv', delimiter=',',skip_header=1)\n",
        "# data\n",
        "# data.shape\n",
        "# data.size\n",
        "# data[:10,:5]\n",
        "# sub_data=data[::3,:]\n",
        "# sub_data\n",
        "# sub_data.shape\n",
        "# a=np.array([[1,2,3],[4,5,6],[7,8,9]])\n",
        "# a\n",
        "# np.delete(a,[1])\n",
        "# sub_data=sub_data[:,:-1]\n",
        "# sub_data\n",
        "# np.info(sub_data)\n",
        "# import matplotlib.pyplot as plt\n",
        "# plt.plot(sub_data[:,0])\n",
        "# plt.plot(sub_data[:,0],sub_data[:,-3])\n",
        "# plt.scatter(sub_data[:,0],sub_data[:,-3], marker='^',color='y')\n",
        "# plt.title(\"Sample Plot\")\n",
        "# plt.xlabel('X axis')\n",
        "# plt.ylabel('Y axis')\n",
        "# data=data[:,:-1]\n",
        "# data\n",
        "# np.savetxt('file.csv',data,delimiter=',')\n"
      ],
      "metadata": {
        "id": "dLpzyokBDALu"
      },
      "execution_count": 86,
      "outputs": []
    },
    {
      "cell_type": "code",
      "source": [],
      "metadata": {
        "id": "n6Q8IsRZDVNr"
      },
      "execution_count": null,
      "outputs": []
    }
  ]
}